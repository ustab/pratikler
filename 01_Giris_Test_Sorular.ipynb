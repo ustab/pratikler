{
 "cells": [
  {
   "cell_type": "markdown",
   "metadata": {},
   "source": [
    "# Sayı Operasyonları"
   ]
  },
  {
   "cell_type": "markdown",
   "metadata": {},
   "source": [
    "Aşağıdaki hücrelerde, şu işlemleri print komutunu kullanarak ekrana yazdır:"
   ]
  },
  {
   "cell_type": "code",
   "execution_count": 1,
   "metadata": {},
   "outputs": [
    {
     "name": "stdout",
     "output_type": "stream",
     "text": [
      "5\n"
     ]
    }
   ],
   "source": [
    "# 3 ve 2'yi toplamı için bu alanı kullanabilirsin:\n",
    "print(3+2)"
   ]
  },
  {
   "cell_type": "code",
   "execution_count": 2,
   "metadata": {},
   "outputs": [
    {
     "data": {
      "text/plain": [
       "20"
      ]
     },
     "execution_count": 2,
     "metadata": {},
     "output_type": "execute_result"
    }
   ],
   "source": [
    "# 5 ve 4'ü çarpımı için bu alanı kullanabilirsin:\n",
    "4*5"
   ]
  },
  {
   "cell_type": "code",
   "execution_count": 1,
   "metadata": {},
   "outputs": [
    {
     "data": {
      "text/plain": [
       "1"
      ]
     },
     "execution_count": 1,
     "metadata": {},
     "output_type": "execute_result"
    }
   ],
   "source": [
    "# 5 ve 4'ün bölümünden kalan için bu alanı kullanabilirsin:\n",
    "5%4"
   ]
  },
  {
   "cell_type": "markdown",
   "metadata": {},
   "source": [
    "Aşağıdaki hücreleri kullanarak, şu işlemleri yanıtlandır:"
   ]
  },
  {
   "cell_type": "code",
   "execution_count": 7,
   "metadata": {},
   "outputs": [
    {
     "data": {
      "text/plain": [
       "float"
      ]
     },
     "execution_count": 7,
     "metadata": {},
     "output_type": "execute_result"
    }
   ],
   "source": [
    "# 2.3 ve 4.7'nin toplama işleminin neticesi hangi veri tipindedir?\n",
    "type(2.3*4.7)"
   ]
  },
  {
   "cell_type": "code",
   "execution_count": 8,
   "metadata": {},
   "outputs": [
    {
     "name": "stdout",
     "output_type": "stream",
     "text": [
      "<class 'float'>\n"
     ]
    }
   ],
   "source": [
    "# 2.3 ve 4.7'nin toplama işleminin veri tipini, komut kullanarak ekrana bastır?\n",
    "print(type(2.3+2.4))"
   ]
  },
  {
   "cell_type": "markdown",
   "metadata": {},
   "source": []
  },
  {
   "cell_type": "code",
   "execution_count": 3,
   "metadata": {},
   "outputs": [],
   "source": [
    "strvar = 'Yakın Kampüs'"
   ]
  },
  {
   "cell_type": "markdown",
   "metadata": {},
   "source": [
    "Yukarıdaki değişkeni kullanarak, aşağıdaki hücrelerde, şu işlemleri yanıtlandır:"
   ]
  },
  {
   "cell_type": "code",
   "execution_count": 20,
   "metadata": {},
   "outputs": [
    {
     "data": {
      "text/plain": [
       "[9]"
      ]
     },
     "execution_count": 20,
     "metadata": {},
     "output_type": "execute_result"
    }
   ],
   "source": [
    "# \"ü\" harfini index komutu kullanmadan döndür (İpucu: [])\n",
    "[u]"
   ]
  },
  {
   "cell_type": "code",
   "execution_count": 10,
   "metadata": {},
   "outputs": [
    {
     "data": {
      "text/plain": [
       "['ü']"
      ]
     },
     "execution_count": 10,
     "metadata": {},
     "output_type": "execute_result"
    }
   ],
   "source": [
    "# \"ü\" harfinin konumunu, index komutu kullanarak döndür\n",
    "[\"ü\"]\n"
   ]
  },
  {
   "cell_type": "code",
   "execution_count": 26,
   "metadata": {},
   "outputs": [
    {
     "ename": "SyntaxError",
     "evalue": "unmatched ')' (1945494566.py, line 3)",
     "output_type": "error",
     "traceback": [
      "\u001b[0;36m  Input \u001b[0;32mIn [26]\u001b[0;36m\u001b[0m\n\u001b[0;31m    )\u001b[0m\n\u001b[0m    ^\u001b[0m\n\u001b[0;31mSyntaxError\u001b[0m\u001b[0;31m:\u001b[0m unmatched ')'\n"
     ]
    }
   ],
   "source": [
    "# strvar.upper() .lower() ifadesinin cevabi nedir?\n",
    "strvar = 'Yakın Kampüs'\n",
    ")\n",
    "yakın kampüs"
   ]
  },
  {
   "cell_type": "code",
   "execution_count": null,
   "metadata": {},
   "outputs": [],
   "source": [
    "# split() komutunu boşluk(space) dışında başka bir parametre ile kullan.\n",
    "split()"
   ]
  },
  {
   "cell_type": "markdown",
   "metadata": {},
   "source": [
    "# Boolean"
   ]
  },
  {
   "cell_type": "code",
   "execution_count": 4,
   "metadata": {},
   "outputs": [],
   "source": [
    "a = True\n",
    "b = False\n",
    "c = 'True'"
   ]
  },
  {
   "cell_type": "markdown",
   "metadata": {},
   "source": [
    "Yukarıdaki değişkenleri kullanarak, aşağıdaki hücrelerde, şu işlemleri yanıtlandır:"
   ]
  },
  {
   "cell_type": "code",
   "execution_count": 31,
   "metadata": {},
   "outputs": [
    {
     "ename": "NameError",
     "evalue": "name 'a' is not defined",
     "output_type": "error",
     "traceback": [
      "\u001b[0;31m---------------------------------------------------------------------------\u001b[0m",
      "\u001b[0;31mNameError\u001b[0m                                 Traceback (most recent call last)",
      "\u001b[1;32m/Users/burhanettinusta/Desktop/Python_Egitim/YakinKampus_PythonKursu/01_Giris/Test/01_Giris_Test_Sorular.ipynb Cell 19'\u001b[0m in \u001b[0;36m<module>\u001b[0;34m\u001b[0m\n\u001b[0;32m----> <a href='vscode-notebook-cell:/Users/burhanettinusta/Desktop/Python_Egitim/YakinKampus_PythonKursu/01_Giris/Test/01_Giris_Test_Sorular.ipynb#ch0000018?line=0'>1</a>\u001b[0m a \u001b[39m==\u001b[39m b\n",
      "\u001b[0;31mNameError\u001b[0m: name 'a' is not defined"
     ]
    }
   ],
   "source": [
    "a == b    #sorgusu cevap olarak ne döndürür?\n",
    "False"
   ]
  },
  {
   "cell_type": "code",
   "execution_count": 32,
   "metadata": {},
   "outputs": [
    {
     "ename": "NameError",
     "evalue": "name 'a' is not defined",
     "output_type": "error",
     "traceback": [
      "\u001b[0;31m---------------------------------------------------------------------------\u001b[0m",
      "\u001b[0;31mNameError\u001b[0m                                 Traceback (most recent call last)",
      "\u001b[1;32m/Users/burhanettinusta/Desktop/Python_Egitim/YakinKampus_PythonKursu/01_Giris/Test/01_Giris_Test_Sorular.ipynb Cell 20'\u001b[0m in \u001b[0;36m<module>\u001b[0;34m\u001b[0m\n\u001b[0;32m----> <a href='vscode-notebook-cell:/Users/burhanettinusta/Desktop/Python_Egitim/YakinKampus_PythonKursu/01_Giris/Test/01_Giris_Test_Sorular.ipynb#ch0000052?line=0'>1</a>\u001b[0m a \u001b[39m==\u001b[39m b\n",
      "\u001b[0;31mNameError\u001b[0m: name 'a' is not defined"
     ]
    }
   ],
   "source": [
    "a == b #sorgusu cevap olarak ne döndürür\n",
    "False"
   ]
  },
  {
   "cell_type": "code",
   "execution_count": 7,
   "metadata": {},
   "outputs": [],
   "source": [
    "# a == c sorgusu cevap olarak ne döndürür?\n"
   ]
  },
  {
   "cell_type": "code",
   "execution_count": 8,
   "metadata": {},
   "outputs": [],
   "source": [
    "# a!=b sorgusu cevap olarak ne döndürür?\n"
   ]
  },
  {
   "cell_type": "code",
   "execution_count": 4,
   "metadata": {},
   "outputs": [],
   "source": [
    "# ! ve not hangi senaryoda birbirinin yerine kullanilamaz? (İpucu: >)\n",
    "# "
   ]
  },
  {
   "cell_type": "code",
   "execution_count": null,
   "metadata": {},
   "outputs": [],
   "source": [
    "# type(3) == type('3') sorgusunu cevap olarak ne döndürür?\n"
   ]
  },
  {
   "cell_type": "markdown",
   "metadata": {},
   "source": [
    "# Listeler ve Setler"
   ]
  },
  {
   "cell_type": "code",
   "execution_count": 10,
   "metadata": {},
   "outputs": [],
   "source": [
    "liste = [1, 'a', 2, 3, True, 4, 5, 'True', '1']"
   ]
  },
  {
   "cell_type": "markdown",
   "metadata": {},
   "source": [
    "Yukarıdaki değişkeni kullanarak, aşağıdaki hücrelerde, şu işlemleri yanıtlandır:"
   ]
  },
  {
   "cell_type": "code",
   "execution_count": 36,
   "metadata": {},
   "outputs": [
    {
     "ename": "TypeError",
     "evalue": "'type' object is not subscriptable",
     "output_type": "error",
     "traceback": [
      "\u001b[0;31m---------------------------------------------------------------------------\u001b[0m",
      "\u001b[0;31mTypeError\u001b[0m                                 Traceback (most recent call last)",
      "\u001b[1;32m/Users/burhanettinusta/Desktop/Python_Egitim/YakinKampus_PythonKursu/01_Giris/Test/01_Giris_Test_Sorular.ipynb Cell 28'\u001b[0m in \u001b[0;36m<module>\u001b[0;34m\u001b[0m\n\u001b[1;32m      <a href='vscode-notebook-cell:/Users/burhanettinusta/Desktop/Python_Egitim/YakinKampus_PythonKursu/01_Giris/Test/01_Giris_Test_Sorular.ipynb#ch0000026?line=0'>1</a>\u001b[0m \u001b[39m# Listenin son elemanını nasıl bulabiliriz?\u001b[39;00m\n\u001b[0;32m----> <a href='vscode-notebook-cell:/Users/burhanettinusta/Desktop/Python_Egitim/YakinKampus_PythonKursu/01_Giris/Test/01_Giris_Test_Sorular.ipynb#ch0000026?line=1'>2</a>\u001b[0m \u001b[39mlist\u001b[39;49m[\u001b[39m'\u001b[39;49m\u001b[39m9\u001b[39;49m\u001b[39m'\u001b[39;49m]\n",
      "\u001b[0;31mTypeError\u001b[0m: 'type' object is not subscriptable"
     ]
    }
   ],
   "source": [
    "# Listenin son elemanını nasıl bulabiliriz?\n",
    "list['9']"
   ]
  },
  {
   "cell_type": "code",
   "execution_count": 39,
   "metadata": {},
   "outputs": [
    {
     "ename": "SyntaxError",
     "evalue": "invalid syntax (1663545423.py, line 2)",
     "output_type": "error",
     "traceback": [
      "\u001b[0;36m  Input \u001b[0;32mIn [39]\u001b[0;36m\u001b[0m\n\u001b[0;31m    [2:5]\u001b[0m\n\u001b[0m      ^\u001b[0m\n\u001b[0;31mSyntaxError\u001b[0m\u001b[0;31m:\u001b[0m invalid syntax\n"
     ]
    }
   ],
   "source": [
    "# Listenin 2. ve 4. elemanlarını içeren yeni bir liste oluştur (İpucu [::])\n",
    "[2:5]"
   ]
  },
  {
   "cell_type": "code",
   "execution_count": null,
   "metadata": {},
   "outputs": [],
   "source": [
    "# Listeyi metod kullanarak nasıl ters sıralarsınız?\n",
    ".reverse[liste]"
   ]
  },
  {
   "cell_type": "code",
   "execution_count": 40,
   "metadata": {},
   "outputs": [
    {
     "ename": "SyntaxError",
     "evalue": "invalid syntax (705914613.py, line 2)",
     "output_type": "error",
     "traceback": [
      "\u001b[0;36m  Input \u001b[0;32mIn [40]\u001b[0;36m\u001b[0m\n\u001b[0;31m    [::-1]\u001b[0m\n\u001b[0m     ^\u001b[0m\n\u001b[0;31mSyntaxError\u001b[0m\u001b[0;31m:\u001b[0m invalid syntax\n"
     ]
    }
   ],
   "source": [
    "# Listeyi [::] kullanarak nasıl ters sıralarsınız?\n",
    "[::-1]"
   ]
  },
  {
   "cell_type": "code",
   "execution_count": null,
   "metadata": {},
   "outputs": [],
   "source": [
    "# Eğer yukarıdaki listeyi, set'e çevirecek olsak eleman sayısı farklı olur muydu? Neden?\n",
    "#evet"
   ]
  },
  {
   "cell_type": "code",
   "execution_count": 11,
   "metadata": {},
   "outputs": [],
   "source": [
    "ic_ice_liste = [1,2,3,[4,5]]"
   ]
  },
  {
   "cell_type": "markdown",
   "metadata": {},
   "source": [
    "Yukarıdaki değişkeni kullanarak, aşağıdaki hücrelerde, şu işlemleri yanıtlandır:"
   ]
  },
  {
   "cell_type": "code",
   "execution_count": 41,
   "metadata": {},
   "outputs": [
    {
     "ename": "SyntaxError",
     "evalue": "invalid syntax (2532636733.py, line 2)",
     "output_type": "error",
     "traceback": [
      "\u001b[0;36m  Input \u001b[0;32mIn [41]\u001b[0;36m\u001b[0m\n\u001b[0;31m    [3:1]\u001b[0m\n\u001b[0m      ^\u001b[0m\n\u001b[0;31mSyntaxError\u001b[0m\u001b[0;31m:\u001b[0m invalid syntax\n"
     ]
    }
   ],
   "source": [
    "# 5 değerine nasıl ulaşırsınız?\n",
    "[3:1]"
   ]
  },
  {
   "cell_type": "code",
   "execution_count": null,
   "metadata": {},
   "outputs": [],
   "source": [
    "#  ic_ice_liste değişkeninin son konumunda bulunan elemanını listeden atın ve\n",
    "# bu kısmı bir degişkene atayın\n",
    ".pop(3)\n",
    "liste=[4,5]"
   ]
  },
  {
   "cell_type": "code",
   "execution_count": 42,
   "metadata": {},
   "outputs": [
    {
     "ename": "SyntaxError",
     "evalue": "invalid syntax (2403631448.py, line 3)",
     "output_type": "error",
     "traceback": [
      "\u001b[0;36m  Input \u001b[0;32mIn [42]\u001b[0;36m\u001b[0m\n\u001b[0;31m    .remove(3)\u001b[0m\n\u001b[0m    ^\u001b[0m\n\u001b[0;31mSyntaxError\u001b[0m\u001b[0;31m:\u001b[0m invalid syntax\n"
     ]
    }
   ],
   "source": [
    "#  pop komutunu kullanmayarak listeyi nasil [1,2,[4,5]] \n",
    "# sekline cevirebilirsiniz? (Hint: her yol mübah :D )\n",
    ".remove(3)"
   ]
  },
  {
   "cell_type": "markdown",
   "metadata": {},
   "source": [
    "# Dictionary"
   ]
  },
  {
   "cell_type": "code",
   "execution_count": null,
   "metadata": {},
   "outputs": [],
   "source": [
    "# Dictionary veri tipinin listeden farkı nedir?\n",
    "# "
   ]
  },
  {
   "cell_type": "code",
   "execution_count": null,
   "metadata": {},
   "outputs": [],
   "source": [
    "# Dictionary oluştururken kullanılan anahtar ve değer çiftinin \n",
    "# Python'daki karşılıkları nelerdir?\n",
    "#"
   ]
  },
  {
   "cell_type": "code",
   "execution_count": 12,
   "metadata": {},
   "outputs": [],
   "source": [
    "my_dict = {'isim': 'Mesut', 'yas':32, 'lokasyon': \n",
    "    {'yasadigi':'Berlin', 'dogdugu': 'Istanbul'}}"
   ]
  },
  {
   "cell_type": "code",
   "execution_count": 43,
   "metadata": {},
   "outputs": [
    {
     "ename": "SyntaxError",
     "evalue": "invalid syntax (4227087815.py, line 2)",
     "output_type": "error",
     "traceback": [
      "\u001b[0;36m  Input \u001b[0;32mIn [43]\u001b[0;36m\u001b[0m\n\u001b[0;31m    [1:2]\u001b[0m\n\u001b[0m      ^\u001b[0m\n\u001b[0;31mSyntaxError\u001b[0m\u001b[0;31m:\u001b[0m invalid syntax\n"
     ]
    }
   ],
   "source": [
    "# 32 değerine nasıl ulaşırsınız?\n",
    "[1:2]\n"
   ]
  },
  {
   "cell_type": "code",
   "execution_count": 48,
   "metadata": {},
   "outputs": [
    {
     "ename": "AttributeError",
     "evalue": "'dict' object has no attribute 'replace'",
     "output_type": "error",
     "traceback": [
      "\u001b[0;31m---------------------------------------------------------------------------\u001b[0m",
      "\u001b[0;31mAttributeError\u001b[0m                            Traceback (most recent call last)",
      "\u001b[1;32m/Users/burhanettinusta/Desktop/Python_Egitim/YakinKampus_PythonKursu/01_Giris/Test/01_Giris_Test_Sorular.ipynb Cell 43'\u001b[0m in \u001b[0;36m<module>\u001b[0;34m\u001b[0m\n\u001b[1;32m      <a href='vscode-notebook-cell:/Users/burhanettinusta/Desktop/Python_Egitim/YakinKampus_PythonKursu/01_Giris/Test/01_Giris_Test_Sorular.ipynb#ch0000041?line=0'>1</a>\u001b[0m \u001b[39m# isim anahtarına karşılık gelen değeri, kendi isminizle değiştirin:\u001b[39;00m\n\u001b[1;32m      <a href='vscode-notebook-cell:/Users/burhanettinusta/Desktop/Python_Egitim/YakinKampus_PythonKursu/01_Giris/Test/01_Giris_Test_Sorular.ipynb#ch0000041?line=1'>2</a>\u001b[0m my_dict \u001b[39m=\u001b[39m {\u001b[39m'\u001b[39m\u001b[39misim\u001b[39m\u001b[39m'\u001b[39m: \u001b[39m'\u001b[39m\u001b[39mMesut\u001b[39m\u001b[39m'\u001b[39m, \u001b[39m'\u001b[39m\u001b[39myas\u001b[39m\u001b[39m'\u001b[39m:\u001b[39m32\u001b[39m, \u001b[39m'\u001b[39m\u001b[39mlokasyon\u001b[39m\u001b[39m'\u001b[39m: \n\u001b[1;32m      <a href='vscode-notebook-cell:/Users/burhanettinusta/Desktop/Python_Egitim/YakinKampus_PythonKursu/01_Giris/Test/01_Giris_Test_Sorular.ipynb#ch0000041?line=2'>3</a>\u001b[0m     {\u001b[39m'\u001b[39m\u001b[39myasadigi\u001b[39m\u001b[39m'\u001b[39m:\u001b[39m'\u001b[39m\u001b[39mBerlin\u001b[39m\u001b[39m'\u001b[39m, \u001b[39m'\u001b[39m\u001b[39mdogdugu\u001b[39m\u001b[39m'\u001b[39m: \u001b[39m'\u001b[39m\u001b[39mIstanbul\u001b[39m\u001b[39m'\u001b[39m}}\n\u001b[0;32m----> <a href='vscode-notebook-cell:/Users/burhanettinusta/Desktop/Python_Egitim/YakinKampus_PythonKursu/01_Giris/Test/01_Giris_Test_Sorular.ipynb#ch0000041?line=3'>4</a>\u001b[0m my_dict\u001b[39m.\u001b[39;49mreplace(\u001b[39m'\u001b[39m\u001b[39m0\u001b[39m\u001b[39m'\u001b[39m, \u001b[39m'\u001b[39m\u001b[39mBurhanettin\u001b[39m\u001b[39m'\u001b[39m)\n\u001b[1;32m      <a href='vscode-notebook-cell:/Users/burhanettinusta/Desktop/Python_Egitim/YakinKampus_PythonKursu/01_Giris/Test/01_Giris_Test_Sorular.ipynb#ch0000041?line=4'>5</a>\u001b[0m \u001b[39mprint\u001b[39m(my_dict)\n",
      "\u001b[0;31mAttributeError\u001b[0m: 'dict' object has no attribute 'replace'"
     ]
    }
   ],
   "source": [
    "# isim anahtarına karşılık gelen değeri, kendi isminizle değiştirin:\n",
    "my_dict = {'isim': 'Mesut', 'yas':32, 'lokasyon': \n",
    "    {'yasadigi':'Berlin', 'dogdugu': 'Istanbul'}}\n",
    "my_dict.replace('0', 'Burhanettin')\n",
    "print(my_dict)"
   ]
  },
  {
   "cell_type": "code",
   "execution_count": null,
   "metadata": {},
   "outputs": [],
   "source": [
    "# my_dict değişkenindeki 'Istanbul' değerine nasıl ulaşabiliriz?\n"
   ]
  },
  {
   "cell_type": "code",
   "execution_count": null,
   "metadata": {},
   "outputs": [],
   "source": [
    "# my_dict değişkenindeki bütün anahtar değerlerine nasıl ulaşırız?\n"
   ]
  },
  {
   "cell_type": "markdown",
   "metadata": {},
   "source": [
    "# Tuple"
   ]
  },
  {
   "cell_type": "code",
   "execution_count": null,
   "metadata": {},
   "outputs": [],
   "source": [
    "# Tuple ile liste arasındaki farklar nelerdir?\n",
    "#"
   ]
  },
  {
   "cell_type": "markdown",
   "metadata": {},
   "source": [
    "# Genel Konular"
   ]
  },
  {
   "cell_type": "code",
   "execution_count": null,
   "metadata": {},
   "outputs": [],
   "source": [
    "# print komutu ile ve print komutsuz yazdırmanın farkı nedir? Her durumda birbiri yerine kullanılabilir mi?\n",
    "#"
   ]
  },
  {
   "cell_type": "code",
   "execution_count": null,
   "metadata": {},
   "outputs": [],
   "source": [
    "# String ifadelerinin içerisinde \\t ile \\n kullanmanın farkı nedir?\n",
    "#"
   ]
  },
  {
   "cell_type": "code",
   "execution_count": null,
   "metadata": {},
   "outputs": [],
   "source": [
    "# değişken isimlendirmelerinde dikkat edilmesi gereken hususlar nelerdir?\n",
    "#"
   ]
  },
  {
   "cell_type": "code",
   "execution_count": null,
   "metadata": {},
   "outputs": [],
   "source": [
    "# [] {} ve () işaretlerini veri tipleri ile eşleştirin:\n",
    "# '' -> String \n",
    "# [] -> \n",
    "# {} -> \n",
    "# () ->"
   ]
  }
 ],
 "metadata": {
  "kernelspec": {
   "display_name": "Python 3",
   "language": "python",
   "name": "python3"
  },
  "language_info": {
   "codemirror_mode": {
    "name": "ipython",
    "version": 3
   },
   "file_extension": ".py",
   "mimetype": "text/x-python",
   "name": "python",
   "nbconvert_exporter": "python",
   "pygments_lexer": "ipython3",
   "version": "3.8.9"
  }
 },
 "nbformat": 4,
 "nbformat_minor": 4
}
